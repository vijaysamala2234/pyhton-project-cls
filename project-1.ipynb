{
 "cells": [
  {
   "cell_type": "code",
   "execution_count": 1,
   "id": "7b5e45f5-5855-4787-b8ef-2d0262a2f97b",
   "metadata": {},
   "outputs": [],
   "source": [
    "import os"
   ]
  },
  {
   "cell_type": "code",
   "execution_count": 2,
   "id": "e6da3b48-89c6-4f12-824c-2783d2c29ef2",
   "metadata": {},
   "outputs": [],
   "source": [
    "library=[]"
   ]
  },
  {
   "cell_type": "code",
   "execution_count": 3,
   "id": "834059cb-38fe-4018-bb03-f5b3a7d2d655",
   "metadata": {},
   "outputs": [],
   "source": [
    "# Function to Add Books\n",
    "def add_book(title, author, genre, year, status=\"unread\"):\n",
    "    book = {\n",
    "        \"title\": title.strip(),\n",
    "        \"author\": author.strip(),\n",
    "        \"genre\": genre.strip(),\n",
    "        \"year\": int(year),\n",
    "        \"status\": status.lower()\n",
    "    }\n",
    "    library.append(book)\n",
    "    print(f\"Book '{title}' added.\")"
   ]
  },
  {
   "cell_type": "code",
   "execution_count": 4,
   "id": "fa803812-5661-406d-a04e-5c3a1468effe",
   "metadata": {},
   "outputs": [],
   "source": [
    "#  Function to List Books\n",
    "def list_books(sorted_by_year=False):\n",
    "    if not library:\n",
    "        print(\"Library is empty.\")\n",
    "        return\n",
    "    books = sorted(library, key=lambda x: x['year']) if sorted_by_year else library\n",
    "    for idx, book in enumerate(books, start=1):\n",
    "        print(f\"{idx}. {book['title']} by {book['author']} [{book['genre']}, {book['year']}] - {book['status'].capitalize()}\")\n"
   ]
  },
  {
   "cell_type": "code",
   "execution_count": 6,
   "id": "e7b9266d-bc75-4b0c-b086-f44277be20a1",
   "metadata": {},
   "outputs": [],
   "source": [
    "#  Function Search by Author\n",
    "def search_by_author(author_name):\n",
    "    return [book for book in library if author_name.lower() in book['author'].lower()]\n"
   ]
  },
  {
   "cell_type": "code",
   "execution_count": 7,
   "id": "627775fc-6ca5-4bae-a4bf-91ded8909beb",
   "metadata": {},
   "outputs": [],
   "source": [
    "#  Function to Delete Book\n",
    "def delete_book(title):\n",
    "    global library\n",
    "    library = list(filter(lambda book: book['title'].lower() != title.lower(), library))\n",
    "    print(f\"Book titled '{title}' has been removed if it existed.\")"
   ]
  },
  {
   "cell_type": "code",
   "execution_count": null,
   "id": "17568802-d412-496c-8899-ab794c092151",
   "metadata": {},
   "outputs": [],
   "source": [
    "# Show Reading Summary\n",
    "def show_reading_summary():\n",
    "    if not library:\n",
    "        print(\"No books in library.\")\n",
    "        return\n",
    "    read = len(list(filter(lambda x: x['status'] == 'read', library)))\n",
    "    unread = len(library) - read\n",
    "    print(f\"Read: {read} books ({(read/len(library))*100:.2f}%)\")\n",
    "    print(f\"Unread: {unread} books ({(unread/len(library))*100:.2f}%)\")"
   ]
  },
  {
   "cell_type": "code",
   "execution_count": 5,
   "id": "96e5d9fa-c659-4bbd-a870-a2931c793a6a",
   "metadata": {},
   "outputs": [],
   "source": [
    "#  Convert Titles of the Books to Capital Letter\n",
    "def uppercase_titles():\n",
    "    titles = list(map(lambda b: b['title'].upper(), library))\n",
    "    print(\"Book Titles (UPPERCASE):\")\n",
    "    for title in titles:\n",
    "        print(\"-\", title)\n",
    "    "
   ]
  },
  {
   "cell_type": "code",
   "execution_count": 8,
   "id": "497e604c-0782-44be-9f86-34eac4258232",
   "metadata": {},
   "outputs": [],
   "source": [
    "#  Function to Save library of books to a file\n",
    "def save_to_file(filename):\n",
    "    try:\n",
    "        with open(filename, 'w') as f:\n",
    "            for book in library:\n",
    "                line = f\"{book['title']},{book['author']},{book['genre']},{book['year']},{book['status']}\"\n",
    "                f.write(line)\n",
    "        print(f\"Saved {len(library)} books to {filename}\")  # After saving all the books, this line prints a confirmation message.It says how many books were saved and the name of the file.\n",
    "    except Exception as e:\n",
    "        print(\"Error saving file:\", e)\n"
   ]
  },
  {
   "cell_type": "code",
   "execution_count": 9,
   "id": "07ac193f-fb2d-420d-a8d3-28be7be20cf5",
   "metadata": {},
   "outputs": [],
   "source": [
    "#  Loading Book Data from a File\n",
    "def load_from_file(filename):\n",
    "    if not os.path.exists(filename):\n",
    "        print(\"File not found. Starting with an empty library.\")\n",
    "        return\n",
    "    try:\n",
    "        with open(filename, 'r') as f:\n",
    "            for line in f:\n",
    "                title, author, genre, year, status = line.strip().split(',')\n",
    "                add_book(title, author, genre, int(year), status)\n",
    "    except Exception as e:\n",
    "        print(\"Error reading file:\", e)"
   ]
  },
  {
   "cell_type": "code",
   "execution_count": 10,
   "id": "22f95594-6d95-48dc-bac5-f0453779f9f9",
   "metadata": {},
   "outputs": [],
   "source": [
    "# Building the Menu Function for Your Library App\n",
    "def menu():\n",
    "    while True:\n",
    "        print(\"\\n--- Personal Library Menu ---\")\n",
    "        print(\"1. Add Book\")\n",
    "        print(\"2. List All Books\")\n",
    "        print(\"3. List Books Sorted by Year\")\n",
    "        print(\"4. Search by Author\")\n",
    "        print(\"5. Delete Book by Title\")\n",
    "        print(\"6. Show Reading Summary\")\n",
    "        print(\"7. Show UPPERCASE Book Titles (map)\")\n",
    "        print(\"8. Save Library\")\n",
    "        print(\"9. Load Library\")\n",
    "        print(\"10. Exit\")\n",
    "        choice = input(\"Choose an option: \")\n",
    "\n",
    "         if choice == \"1\":\n",
    "            title = input(\"Title: \")\n",
    "            author = input(\"Author: \")\n",
    "            genre = input(\"Genre: \")\n",
    "            year = input(\"Year: \")\n",
    "            status = input(\"Status (read/unread): \")\n",
    "            add_book(title, author, genre, year, status)\n",
    "        elif choice == \"2\":\n",
    "            list_books()\n",
    "        elif choice == \"3\":\n",
    "            list_books(sorted_by_year=True)\n",
    "        elif choice == \"4\":\n",
    "            author = input(\"Enter author name: \")\n",
    "            results = search_by_author(author)\n",
    "            print(f\"\\n Found {len(results)} books by {author}:\")\n",
    "            for book in results:\n",
    "                print(f\"- {book['title']} ({book['year']})\")\n",
    "        elif choice == \"5\":\n",
    "            title = input(\"Enter title to delete: \")\n",
    "            delete_book(title)\n",
    "        elif choice == \"6\":\n",
    "            show_reading_summary()\n",
    "        elif choice == \"7\":\n",
    "            uppercase_titles()\n",
    "        elif choice == \"8\":\n",
    "            save_to_file(\"books_data.txt\")\n",
    "        elif choice == \"9\":\n",
    "            load_from_file(\"books_data.txt\")\n",
    "        elif choice == \"10\":\n",
    "            print(\"Goodbye!\")\n",
    "            break\n",
    "        else:\n",
    "            print(\"Invalid option. Try again.\")\n",
    "\n",
    "\n",
    "if __name__ == \"__main__\": # This line checks how the Python file is being run.\n",
    "    menu()"
   ]
  },
  {
   "cell_type": "code",
   "execution_count": null,
   "id": "22deacea-a0f9-4cb6-b25a-ba9104601f59",
   "metadata": {},
   "outputs": [],
   "source": []
  }
 ],
 "metadata": {
  "kernelspec": {
   "display_name": "Python 3 (ipykernel)",
   "language": "python",
   "name": "python3"
  },
  "language_info": {
   "codemirror_mode": {
    "name": "ipython",
    "version": 3
   },
   "file_extension": ".py",
   "mimetype": "text/x-python",
   "name": "python",
   "nbconvert_exporter": "python",
   "pygments_lexer": "ipython3",
   "version": "3.13.5"
  }
 },
 "nbformat": 4,
 "nbformat_minor": 5
}
